{
 "cells": [
  {
   "cell_type": "code",
   "execution_count": 9,
   "metadata": {},
   "outputs": [
    {
     "name": "stdout",
     "output_type": "stream",
     "text": [
      "<__main__.subhasri object at 0x000002234CFA1310>\n",
      "2350638568208\n",
      "0x1a1070751d0\n",
      "1791119282640\n",
      "True\n",
      "<class '__main__.subhasri'>\n"
     ]
    },
    {
     "ename": "AttributeError",
     "evalue": "type object 'subhasri' has no attribute '_name_'",
     "output_type": "error",
     "traceback": [
      "\u001b[1;31m---------------------------------------------------------------------------\u001b[0m",
      "\u001b[1;31mAttributeError\u001b[0m                            Traceback (most recent call last)",
      "Cell \u001b[1;32mIn[9], line 16\u001b[0m\n\u001b[0;32m     14\u001b[0m \u001b[39mprint\u001b[39m(\u001b[39misinstance\u001b[39m(my_name,subhasri))\n\u001b[0;32m     15\u001b[0m \u001b[39mprint\u001b[39m(\u001b[39mtype\u001b[39m(my_name))\n\u001b[1;32m---> 16\u001b[0m \u001b[39mprint\u001b[39m(subhasri\u001b[39m.\u001b[39;49m_name_)\n",
      "\u001b[1;31mAttributeError\u001b[0m: type object 'subhasri' has no attribute '_name_'"
     ]
    }
   ],
   "source": [
    "class subhasri:\n",
    "    location = \"chikiti dhanaghar  \"\n",
    "    def landmark():\n",
    "        return\" subha is so innocent\"\n",
    "\n",
    "    #print(subhasri.location)\n",
    "    #print(subhasri.landmark())\n",
    "\n",
    "my_name=subhasri()\n",
    "print(my_name)\n",
    "print(id(my_name))\n",
    "print(hex(1791119282640))\n",
    "print(int(0x000001A1070751D0))\n",
    "print(isinstance(my_name,subhasri))\n",
    "print(type(my_name))\n",
    "print(subhasri._name_)\n"
   ]
  },
  {
   "cell_type": "code",
   "execution_count": 8,
   "metadata": {},
   "outputs": [
    {
     "name": "stdout",
     "output_type": "stream",
     "text": [
      " i am subhasrisabat and my father name is  balakrushna and mother name is  mamata\n",
      " i am chinnu and my father name is  bhaskar and mother name is  ramlxmi\n"
     ]
    }
   ],
   "source": [
    "def profile (**args):\n",
    "    return f' i am {args.get(\"name\")} and my father name is  {args.get(\"father\")} and mother name is  {args.get(\"mother\")}'\n",
    "subhasri = profile(name='subhasrisabat',father='balakrushna',mother='mamata')\n",
    "chinnu=profile(name='chinnu',father='bhaskar',mother='ramlxmi')\n",
    "print(subhasri)\n",
    "print(chinnu)\n",
    "    #print(isinstance(subhasri,profile))\n",
    "  "
   ]
  },
  {
   "cell_type": "code",
   "execution_count": 5,
   "metadata": {},
   "outputs": [
    {
     "name": "stdout",
     "output_type": "stream",
     "text": [
      "subhasri\n",
      "subhasri\n"
     ]
    }
   ],
   "source": [
    "class subha:\n",
    "    my_name='subhasri'\n",
    "    def my_nick_name():\n",
    "        return'but my_name is subha'\n",
    "name = getattr(subha,\"my_name\")\n",
    "nick_name=getattr(subha,\"my_name\")\n",
    "print(name)\n",
    "print(nick_name)\n"
   ]
  },
  {
   "cell_type": "code",
   "execution_count": null,
   "metadata": {},
   "outputs": [],
   "source": []
  },
  {
   "cell_type": "code",
   "execution_count": null,
   "metadata": {},
   "outputs": [],
   "source": []
  },
  {
   "cell_type": "code",
   "execution_count": null,
   "metadata": {},
   "outputs": [],
   "source": []
  }
 ],
 "metadata": {
  "kernelspec": {
   "display_name": "Python 3",
   "language": "python",
   "name": "python3"
  },
  "language_info": {
   "codemirror_mode": {
    "name": "ipython",
    "version": 3
   },
   "file_extension": ".py",
   "mimetype": "text/x-python",
   "name": "python",
   "nbconvert_exporter": "python",
   "pygments_lexer": "ipython3",
   "version": "3.11.1"
  },
  "orig_nbformat": 4,
  "vscode": {
   "interpreter": {
    "hash": "fa6e12f5e5ac0ef8d4fc5ed68460255f96e78ccc6ae90f782d559be177fce646"
   }
  }
 },
 "nbformat": 4,
 "nbformat_minor": 2
}
