{
 "cells": [
  {
   "cell_type": "code",
   "execution_count": 5,
   "metadata": {},
   "outputs": [
    {
     "ename": "NameError",
     "evalue": "name 'subhasri' is not defined",
     "output_type": "error",
     "traceback": [
      "\u001b[1;31m---------------------------------------------------------------------------\u001b[0m",
      "\u001b[1;31mNameError\u001b[0m                                 Traceback (most recent call last)",
      "Cell \u001b[1;32mIn[5], line 1\u001b[0m\n\u001b[1;32m----> 1\u001b[0m \u001b[39mclass\u001b[39;49;00m \u001b[39msubhasri\u001b[39;49;00m:\n\u001b[0;32m      2\u001b[0m     year \u001b[39m=\u001b[39;49m \u001b[39m2023\u001b[39;49m\n\u001b[0;32m      3\u001b[0m     \u001b[39mdef\u001b[39;49;00m \u001b[39m_init_\u001b[39;49m(\u001b[39mself\u001b[39;49m,name):\n",
      "Cell \u001b[1;32mIn[5], line 10\u001b[0m, in \u001b[0;36msubhasri\u001b[1;34m()\u001b[0m\n\u001b[0;32m      7\u001b[0m     studentss \u001b[39m=\u001b[39m [\u001b[39m'\u001b[39m\u001b[39ms\u001b[39m\u001b[39m'\u001b[39m,\u001b[39m'\u001b[39m\u001b[39ma\u001b[39m\u001b[39m'\u001b[39m]\n\u001b[0;32m      8\u001b[0m     \u001b[39mreturn\u001b[39;00m studentss\n\u001b[1;32m---> 10\u001b[0m students \u001b[39m=\u001b[39m subhasri(\u001b[39m'\u001b[39m\u001b[39mlipsa sabat\u001b[39m\u001b[39m'\u001b[39m)\n\u001b[0;32m     11\u001b[0m \u001b[39mprint\u001b[39m(students\u001b[39m.\u001b[39mgetStudentss())\n",
      "\u001b[1;31mNameError\u001b[0m: name 'subhasri' is not defined"
     ]
    }
   ],
   "source": [
    "class subhasri:\n",
    "    year = 2023\n",
    "    def _init_(self,name):\n",
    "        self.start = 2023\n",
    "        self.subha = name\n",
    "    def getstudentss(self):\n",
    "        studentss = ['s','a']\n",
    "        return studentss\n",
    "\n",
    "    students = subhasri('lipsa sabat')\n",
    "    print(students.getStudentss())"
   ]
  },
  {
   "cell_type": "code",
   "execution_count": null,
   "metadata": {},
   "outputs": [],
   "source": []
  }
 ],
 "metadata": {
  "kernelspec": {
   "display_name": "Python 3",
   "language": "python",
   "name": "python3"
  },
  "language_info": {
   "codemirror_mode": {
    "name": "ipython",
    "version": 3
   },
   "file_extension": ".py",
   "mimetype": "text/x-python",
   "name": "python",
   "nbconvert_exporter": "python",
   "pygments_lexer": "ipython3",
   "version": "3.11.1"
  },
  "orig_nbformat": 4,
  "vscode": {
   "interpreter": {
    "hash": "fa6e12f5e5ac0ef8d4fc5ed68460255f96e78ccc6ae90f782d559be177fce646"
   }
  }
 },
 "nbformat": 4,
 "nbformat_minor": 2
}
