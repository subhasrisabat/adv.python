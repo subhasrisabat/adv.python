{
 "cells": [
  {
   "cell_type": "code",
   "execution_count": 13,
   "metadata": {},
   "outputs": [
    {
     "name": "stdout",
     "output_type": "stream",
     "text": [
      "hey you\n",
      "STRESS LESS AND ENJOY THE BEST\n"
     ]
    }
   ],
   "source": [
    "outside_class = 'stress less and enjoy the best'\n",
    "\n",
    "\n",
    "class Subha:\n",
    "    def __init__(self, strg):\n",
    "        self.inside_class = 'hey you'\n",
    "        self.strg = strg\n",
    "\n",
    "    def upper(self):\n",
    "        return outside_class.upper()\n",
    "\n",
    "    def lower(self):\n",
    "        return self.inside_class.lower()\n",
    "\n",
    "    def Capitalize(self):\n",
    "        return self.strg.captilize()\n",
    "string = Subha('subhasri')\n",
    "print(string.lower())\n",
    "print(string.upper())\n"
   ]
  },
  {
   "cell_type": "code",
   "execution_count": 1,
   "metadata": {},
   "outputs": [
    {
     "name": "stdout",
     "output_type": "stream",
     "text": [
      "__main__\n",
      "myfamily\n"
     ]
    }
   ],
   "source": [
    "print(__name__)\n",
    "\n",
    "class myfamily:\n",
    "    def _init_(self,mother,father):\n",
    "        self.name = Name\n",
    "        self.father = father\n",
    "        self.mother = mother\n",
    "    def getdetail(self):\n",
    "      return f'i am {self.name}'\n",
    "family = myfamily()\n",
    "print(myfamily.__name__)\n",
    "          \n"
   ]
  },
  {
   "cell_type": "code",
   "execution_count": null,
   "metadata": {},
   "outputs": [],
   "source": []
  }
 ],
 "metadata": {
  "kernelspec": {
   "display_name": "Python 3",
   "language": "python",
   "name": "python3"
  },
  "language_info": {
   "codemirror_mode": {
    "name": "ipython",
    "version": 3
   },
   "file_extension": ".py",
   "mimetype": "text/x-python",
   "name": "python",
   "nbconvert_exporter": "python",
   "pygments_lexer": "ipython3",
   "version": "3.11.1 (tags/v3.11.1:a7a450f, Dec  6 2022, 19:58:39) [MSC v.1934 64 bit (AMD64)]"
  },
  "orig_nbformat": 4,
  "vscode": {
   "interpreter": {
    "hash": "fa6e12f5e5ac0ef8d4fc5ed68460255f96e78ccc6ae90f782d559be177fce646"
   }
  }
 },
 "nbformat": 4,
 "nbformat_minor": 2
}
