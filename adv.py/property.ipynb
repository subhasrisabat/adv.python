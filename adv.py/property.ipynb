{
 "cells": [
  {
   "cell_type": "code",
   "execution_count": 4,
   "metadata": {},
   "outputs": [
    {
     "ename": "TypeError",
     "evalue": "isinstance() arg 2 must be a type, a tuple of types, or a union",
     "output_type": "error",
     "traceback": [
      "\u001b[1;31m---------------------------------------------------------------------------\u001b[0m",
      "\u001b[1;31mTypeError\u001b[0m                                 Traceback (most recent call last)",
      "Cell \u001b[1;32mIn[4], line 12\u001b[0m\n\u001b[0;32m     10\u001b[0m         \u001b[39mreturn\u001b[39;00m \u001b[39mf\u001b[39m\u001b[39m'\u001b[39m\u001b[39mi am \u001b[39m\u001b[39m{\u001b[39;00m\u001b[39mself\u001b[39m\u001b[39m.\u001b[39mname\u001b[39m}\u001b[39;00m\u001b[39m and i am \u001b[39m\u001b[39m{\u001b[39;00m\u001b[39mself\u001b[39m\u001b[39m.\u001b[39mage\u001b[39m}\u001b[39;00m\u001b[39myears old\u001b[39m\u001b[39m'\u001b[39m\n\u001b[0;32m     11\u001b[0m profile \u001b[39m=\u001b[39m Profile(name\u001b[39m=\u001b[39m\u001b[39m\"\u001b[39m\u001b[39mlipsa\u001b[39m\u001b[39m\"\u001b[39m,age \u001b[39m=\u001b[39m \u001b[39m20\u001b[39m)\n\u001b[1;32m---> 12\u001b[0m \u001b[39mprint\u001b[39m(\u001b[39misinstance\u001b[39;49m(profile,profile))\n\u001b[0;32m     13\u001b[0m \u001b[39mprint\u001b[39m(Profile)\n\u001b[0;32m     14\u001b[0m \u001b[39mprint\u001b[39m(profile)\n",
      "\u001b[1;31mTypeError\u001b[0m: isinstance() arg 2 must be a type, a tuple of types, or a union"
     ]
    }
   ],
   "source": [
    "from pprint import pprint\n",
    "\n",
    "class Profile:\n",
    "    def __init__(self,name,age):\n",
    "        self.name = name\n",
    "        self.age = age \n",
    "    def __str__(self):\n",
    "        return f'manish jibana mane tension {self.name} and {self.age}'\n",
    "    def get_details(self):\n",
    "        return f'i am {self.name} and i am {self.age}years old'\n",
    "profile = Profile(name=\"lipsa\",age = 20)\n",
    "print(isinstance(profile,profile))\n",
    "print(Profile)\n",
    "print(profile)\n",
    "\n",
    "print(profile.__dict__)\n",
    "pprint(Profile.__dict__)\n",
    "#print(profile.get_details())\n",
    "\n",
    "\n"
   ]
  },
  {
   "cell_type": "code",
   "execution_count": 5,
   "metadata": {},
   "outputs": [
    {
     "name": "stdout",
     "output_type": "stream",
     "text": [
      "manish jibana mane tension lipa and 20\n",
      "manish jibana mane tension lipa and 20\n",
      "<__main__.Profile object at 0x0000016861877CD0>\n"
     ]
    }
   ],
   "source": [
    "from pprint import pprint\n",
    "\n",
    "class profile:\n",
    "    def __init__(self,name,age):\n",
    "        self.name = name\n",
    "        self.age = age \n",
    "\n",
    "    def __repr__(self):\n",
    "        return f'khusi gote kukuruni{self.name} and {self.age}'\n",
    "    def __str__(self):\n",
    "        return f'lipsa gote bhala pila {self.name} and {self.age}'\n",
    "\n",
    "    profile = Profile(name =\"lipa\",age=20)\n",
    "    print(profile)\n",
    "    print(profile)\n",
    "\n",
    "    print(repr(profile))"
   ]
  },
  {
   "cell_type": "code",
   "execution_count": null,
   "metadata": {},
   "outputs": [],
   "source": []
  }
 ],
 "metadata": {
  "kernelspec": {
   "display_name": "Python 3",
   "language": "python",
   "name": "python3"
  },
  "language_info": {
   "codemirror_mode": {
    "name": "ipython",
    "version": 3
   },
   "file_extension": ".py",
   "mimetype": "text/x-python",
   "name": "python",
   "nbconvert_exporter": "python",
   "pygments_lexer": "ipython3",
   "version": "3.11.1 (tags/v3.11.1:a7a450f, Dec  6 2022, 19:58:39) [MSC v.1934 64 bit (AMD64)]"
  },
  "orig_nbformat": 4,
  "vscode": {
   "interpreter": {
    "hash": "fa6e12f5e5ac0ef8d4fc5ed68460255f96e78ccc6ae90f782d559be177fce646"
   }
  }
 },
 "nbformat": 4,
 "nbformat_minor": 2
}
