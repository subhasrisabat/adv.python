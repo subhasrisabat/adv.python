{
 "cells": [
  {
   "cell_type": "code",
   "execution_count": 10,
   "metadata": {},
   "outputs": [
    {
     "name": "stdout",
     "output_type": "stream",
     "text": [
      "i am subha and my age is 20years old and i am aengineering\n"
     ]
    }
   ],
   "source": [
    "outside = 20\n",
    "\n",
    "class About :\n",
    "    #class  attribute\n",
    "    study = 'engineering'\n",
    "    #instance attribute\n",
    "    def __init__(self,name,age):\n",
    "        self.name = name\n",
    "        self.age = age\n",
    "    #instance method \n",
    "    def getDetails(self):\n",
    "        return f'i am {self.name} and my age is {self.age}years old and i am a{self.study}'\n",
    "subha = About(name = 'subha',age=20)\n",
    "\n",
    "print(subha.getDetails())"
   ]
  },
  {
   "cell_type": "code",
   "execution_count": 1,
   "metadata": {},
   "outputs": [
    {
     "name": "stdout",
     "output_type": "stream",
     "text": [
      "True\n",
      "lipsa\n",
      "wo sabse kanchia pila hai chinuu\n"
     ]
    }
   ],
   "source": [
    "global_access = 'lipsa'\n",
    "\n",
    "class About :\n",
    "    #class instance \n",
    "    age = 20\n",
    "    my_best_friend = 'chinuu'\n",
    "\n",
    "    #instance attributes\n",
    "    def __init__(self,name:str):\n",
    "        self.name=name\n",
    "    #instance methods\n",
    "    def getName():\n",
    "        return global_access\n",
    "    #instance methods\n",
    "    def get_my_ownthings(self,close_friend):\n",
    "        return f'wo sabse kanchia pila hai {self.my_best_friend}'\n",
    "\n",
    "subha=About('chinnu')\n",
    "print(isinstance(subha,About))\n",
    "\n",
    "print(About.getName())\n",
    "print(subha.get_my_ownthings(close_friend='chinnu'))\n",
    "\n"
   ]
  }
 ],
 "metadata": {
  "kernelspec": {
   "display_name": "Python 3",
   "language": "python",
   "name": "python3"
  },
  "language_info": {
   "codemirror_mode": {
    "name": "ipython",
    "version": 3
   },
   "file_extension": ".py",
   "mimetype": "text/x-python",
   "name": "python",
   "nbconvert_exporter": "python",
   "pygments_lexer": "ipython3",
   "version": "3.11.1"
  },
  "orig_nbformat": 4,
  "vscode": {
   "interpreter": {
    "hash": "fa6e12f5e5ac0ef8d4fc5ed68460255f96e78ccc6ae90f782d559be177fce646"
   }
  }
 },
 "nbformat": 4,
 "nbformat_minor": 2
}
