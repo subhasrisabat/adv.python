{
 "cells": [
  {
   "cell_type": "code",
   "execution_count": 1,
   "metadata": {},
   "outputs": [
    {
     "name": "stdout",
     "output_type": "stream",
     "text": [
      "['khusi', 'mahi', 'barsa', 'sweety']\n",
      "sweety\n",
      "mahi\n",
      "barsa\n",
      "best sisters ever\n"
     ]
    }
   ],
   "source": [
    "siblings =[\"khusi\",\"mahi\",\"barsa\",\"sweety\"]\n",
    "\n",
    "print(siblings)\n",
    "print(siblings[3])\n",
    "print(siblings[1])\n",
    "\n",
    "try:\n",
    "    print(siblings[2])\n",
    "except IndexError as error:\n",
    "    print(error)\n",
    "finally:\n",
    "    print('best sisters ever')\n",
    "\n"
   ]
  },
  {
   "cell_type": "code",
   "execution_count": 4,
   "metadata": {},
   "outputs": [
    {
     "ename": "SyntaxError",
     "evalue": "':' expected after dictionary key (189217998.py, line 7)",
     "output_type": "error",
     "traceback": [
      "\u001b[1;36m  Cell \u001b[1;32mIn[4], line 7\u001b[1;36m\u001b[0m\n\u001b[1;33m    \"sister\" print(siblings[1])\u001b[0m\n\u001b[1;37m           ^\u001b[0m\n\u001b[1;31mSyntaxError\u001b[0m\u001b[1;31m:\u001b[0m ':' expected after dictionary key\n"
     ]
    }
   ],
   "source": [
    "siblings =[\"khusi\",\"barsa\",\"sweety\",\"mahi\"]\n",
    "\n",
    "def getOutput():\n",
    "    try:\n",
    "        return{\n",
    "            \"best_sister\":True,\n",
    "            \"sister\" print(siblings[1])\n",
    "        }\n",
    "    except BaseException as error :\n",
    "        return{\n",
    "            \"best_sister\":False,\n",
    "            \"sister\" print(error.__class__,error)\n",
    "        }\n",
    "        else:\n",
    "             return 'i am from else block'\n",
    "        finally :\n",
    "            return 'i am inside finally block i will run always'"
   ]
  },
  {
   "cell_type": "code",
   "execution_count": null,
   "metadata": {},
   "outputs": [],
   "source": []
  }
 ],
 "metadata": {
  "kernelspec": {
   "display_name": "Python 3",
   "language": "python",
   "name": "python3"
  },
  "language_info": {
   "codemirror_mode": {
    "name": "ipython",
    "version": 3
   },
   "file_extension": ".py",
   "mimetype": "text/x-python",
   "name": "python",
   "nbconvert_exporter": "python",
   "pygments_lexer": "ipython3",
   "version": "3.11.1 (tags/v3.11.1:a7a450f, Dec  6 2022, 19:58:39) [MSC v.1934 64 bit (AMD64)]"
  },
  "orig_nbformat": 4,
  "vscode": {
   "interpreter": {
    "hash": "fa6e12f5e5ac0ef8d4fc5ed68460255f96e78ccc6ae90f782d559be177fce646"
   }
  }
 },
 "nbformat": 4,
 "nbformat_minor": 2
}
